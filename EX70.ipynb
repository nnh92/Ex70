{
  "nbformat": 4,
  "nbformat_minor": 0,
  "metadata": {
    "colab": {
      "provenance": [],
      "authorship_tag": "ABX9TyMeC6ErqY3qWw2SxKGGpyzH",
      "include_colab_link": true
    },
    "kernelspec": {
      "name": "python3",
      "display_name": "Python 3"
    },
    "language_info": {
      "name": "python"
    }
  },
  "cells": [
    {
      "cell_type": "markdown",
      "metadata": {
        "id": "view-in-github",
        "colab_type": "text"
      },
      "source": [
        "<a href=\"https://colab.research.google.com/github/nnh92/Ex70/blob/main/EX70.ipynb\" target=\"_parent\"><img src=\"https://colab.research.google.com/assets/colab-badge.svg\" alt=\"Open In Colab\"/></a>"
      ]
    },
    {
      "cell_type": "code",
      "execution_count": null,
      "metadata": {
        "id": "omtcZwg7WAhy"
      },
      "outputs": [],
      "source": [
        "def Tim_So(s):\n",
        "  s = s.split()\n",
        "  lst = []\n",
        "  for i in s:\n",
        "    if i.isnumeric():\n",
        "      lst.append(i)\n",
        "  return sum(lst)/len(lst)\n",
        "\n",
        "s = input()\n",
        "\n",
        "Tim_So(s)\n",
        "\n",
        "\n",
        "\n"
      ]
    }
  ]
}