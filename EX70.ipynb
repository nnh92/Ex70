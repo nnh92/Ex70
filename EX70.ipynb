{
  "nbformat": 4,
  "nbformat_minor": 0,
  "metadata": {
    "colab": {
      "provenance": [],
      "authorship_tag": "ABX9TyOFNc0r11bBPewKhVbhkkM6",
      "include_colab_link": true
    },
    "kernelspec": {
      "name": "python3",
      "display_name": "Python 3"
    },
    "language_info": {
      "name": "python"
    }
  },
  "cells": [
    {
      "cell_type": "markdown",
      "metadata": {
        "id": "view-in-github",
        "colab_type": "text"
      },
      "source": [
        "<a href=\"https://colab.research.google.com/github/nnh92/Ex70/blob/main/EX70.ipynb\" target=\"_parent\"><img src=\"https://colab.research.google.com/assets/colab-badge.svg\" alt=\"Open In Colab\"/></a>"
      ]
    },
    {
      "cell_type": "code",
      "execution_count": 6,
      "metadata": {
        "id": "omtcZwg7WAhy",
        "outputId": "38585dcc-6895-40a7-f911-0deb9d4a784d",
        "colab": {
          "base_uri": "https://localhost:8080/"
        }
      },
      "outputs": [
        {
          "name": "stdout",
          "output_type": "stream",
          "text": [
            "Toi la 42 sinh nam 1924\n"
          ]
        },
        {
          "output_type": "execute_result",
          "data": {
            "text/plain": [
              "983.0"
            ]
          },
          "metadata": {},
          "execution_count": 6
        }
      ],
      "source": [
        "def Tim_So(s):\n",
        "  s = s.split()\n",
        "  lst = []\n",
        "  for i in s:\n",
        "    if i.isnumeric():\n",
        "      lst.append(float(i))\n",
        "  return sum(lst)/len(lst)\n",
        "\n",
        "s = input()\n",
        "\n",
        "Tim_So(s)\n",
        "\n",
        "\n",
        "\n"
      ]
    }
  ]
}